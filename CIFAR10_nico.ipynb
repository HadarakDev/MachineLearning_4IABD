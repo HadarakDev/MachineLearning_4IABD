{
 "cells": [
  {
   "cell_type": "code",
   "execution_count": 2,
   "metadata": {},
   "outputs": [],
   "source": [
    "import pickle\n",
    "import numpy as np\n",
    "import matplotlib.pyplot as plt\n",
    "import tensorflow as tf\n",
    "\n",
    "from tensorflow.keras.layers import Dense, Flatten, Conv2D\n",
    "from tensorflow.keras import Model\n",
    "\n",
    "datasetPath = \"dataset\\\\data_batch_\""
   ]
  },
  {
   "cell_type": "code",
   "execution_count": 3,
   "metadata": {},
   "outputs": [],
   "source": [
    "def unpickle(path_batch):\n",
    "    with open(path_batch, 'rb') as fo:\n",
    "        batch = pickle.load(fo, encoding='latin1')      \n",
    "    features = batch['data'].reshape((len(batch['data']), 3, 32, 32)).transpose(0, 2, 3, 1)\n",
    "    labels = batch['labels']\n",
    "        \n",
    "    return features, labels"
   ]
  },
  {
   "cell_type": "code",
   "execution_count": 4,
   "metadata": {},
   "outputs": [],
   "source": [
    "def get_label_names():\n",
    "    with open(\"dataset\\\\batches.meta\", 'rb') as fo:\n",
    "        data = pickle.load(fo, encoding='latin1')\n",
    "    return (data['label_names'])"
   ]
  },
  {
   "cell_type": "code",
   "execution_count": 5,
   "metadata": {},
   "outputs": [],
   "source": [
    "def display_batch_stat(batch_nb):\n",
    "    features, labels = unpickle(datasetPath + str(batch_nb))\n",
    "    print(\"Batch N° %s\" % str(batch_nb), \"\\n\")\n",
    "    print(\"Number of Samples in batch %s\" % str(len(features)), \"\\n\")\n",
    "    counts =  [[x, labels.count(x)] for x in set(labels)]\n",
    "    for c in counts:\n",
    "        print( \"%s = %d <=> %.2f %s\" % (label_names[c[0]], c[1], (100 * c[1]) / len(features), \"%\"))\n",
    "    "
   ]
  },
  {
   "cell_type": "code",
   "execution_count": 77,
   "metadata": {
    "scrolled": true
   },
   "outputs": [
    {
     "name": "stdout",
     "output_type": "stream",
     "text": [
      "Batch N° 3 \n",
      "\n",
      "Number of Samples in batch 10000 \n",
      "\n",
      "airplane = 994 <=> 9.94 %\n",
      "automobile = 1042 <=> 10.42 %\n",
      "bird = 965 <=> 9.65 %\n",
      "cat = 997 <=> 9.97 %\n",
      "deer = 990 <=> 9.90 %\n",
      "dog = 1029 <=> 10.29 %\n",
      "frog = 978 <=> 9.78 %\n",
      "horse = 1015 <=> 10.15 %\n",
      "ship = 961 <=> 9.61 %\n",
      "truck = 1029 <=> 10.29 %\n"
     ]
    }
   ],
   "source": [
    "display_batch_stat(3)"
   ]
  },
  {
   "cell_type": "code",
   "execution_count": 6,
   "metadata": {},
   "outputs": [
    {
     "name": "stdout",
     "output_type": "stream",
     "text": [
      "tf.Tensor(\n",
      "[[0. 0. 0. ... 0. 0. 0.]\n",
      " [0. 0. 0. ... 0. 0. 1.]\n",
      " [0. 0. 0. ... 0. 0. 1.]\n",
      " ...\n",
      " [0. 1. 0. ... 0. 0. 0.]\n",
      " [0. 1. 0. ... 0. 0. 0.]\n",
      " [0. 0. 0. ... 0. 0. 0.]], shape=(10000, 10), dtype=float32)\n"
     ]
    }
   ],
   "source": [
    "features, labels = unpickle(\"dataset\\\\data_batch_1\")\n",
    "X = features.flatten().reshape(10000, 32*32*3)\n",
    "Y = np.asarray(labels)\n",
    "Y_one_hot = tf.one_hot(Y, 10)\n",
    "\n",
    "print(Y_one_hot)\n"
   ]
  },
  {
   "cell_type": "code",
   "execution_count": 49,
   "metadata": {},
   "outputs": [
    {
     "data": {
      "text/plain": [
       "<tensorflow.python.keras.callbacks.History at 0x292f9586908>"
      ]
     },
     "execution_count": 49,
     "metadata": {},
     "output_type": "execute_result"
    }
   ],
   "source": [
    "model = tf.keras.Sequential()\n",
    "model.add(Dense(1, activation=\"linear\", input_dim=32*32*3))\n",
    "model.add(Dense(10, activation=\"softmax\", input_dim=1))\n",
    "model.compile(optimizer=\"adam\", loss='categorical_crossentropy', metrics=['accuracy'])\n",
    "\n",
    "model.fit(X, Y_one_hot, batch_size=10000, verbose=0, epochs=10000)"
   ]
  },
  {
   "cell_type": "code",
   "execution_count": 53,
   "metadata": {},
   "outputs": [
    {
     "name": "stdout",
     "output_type": "stream",
     "text": [
      "<class 'numpy.ndarray'>\n",
      "[[0.19467007 0.20299606 0.03041407 0.03835598 0.01688459 0.02967693\n",
      "  0.00999344 0.04225935 0.22087492 0.21387456]]\n",
      "8\n",
      "predict => ship | expected => truck\n"
     ]
    }
   ],
   "source": [
    "idx = 1\n",
    "img = X[idx].reshape(1, 3072)\n",
    "print(type(model.predict(img)))\n",
    "\n",
    "label_names = get_label_names()\n",
    "\n",
    "print (model.predict(img))\n",
    "res = np.argmax((model.predict(img)))\n",
    "print(res)\n",
    "print(\"predict => \" + label_names[res] + \" | expected => \"  + label_names[Y[idx]])\n"
   ]
  },
  {
   "cell_type": "code",
   "execution_count": null,
   "metadata": {},
   "outputs": [],
   "source": []
  }
 ],
 "metadata": {
  "kernelspec": {
   "display_name": "Python 3",
   "language": "python",
   "name": "python3"
  },
  "language_info": {
   "codemirror_mode": {
    "name": "ipython",
    "version": 3
   },
   "file_extension": ".py",
   "mimetype": "text/x-python",
   "name": "python",
   "nbconvert_exporter": "python",
   "pygments_lexer": "ipython3",
   "version": "3.7.5"
  }
 },
 "nbformat": 4,
 "nbformat_minor": 2
}
