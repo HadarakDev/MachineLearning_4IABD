{
 "cells": [
  {
   "cell_type": "code",
   "execution_count": 99,
   "metadata": {},
   "outputs": [],
   "source": [
    "import pickle\n",
    "import numpy as np\n",
    "import matplotlib.pyplot as plt\n",
    "import tensorflow as tf\n",
    "\n",
    "from tensorflow.keras.layers import Dense, Flatten, Conv2D\n",
    "from tensorflow.keras import Model\n",
    "\n",
    "datasetPath = \"dataset\\\\data_batch_\""
   ]
  },
  {
   "cell_type": "code",
   "execution_count": 100,
   "metadata": {},
   "outputs": [],
   "source": [
    "def unpickle(path_batch):\n",
    "    with open(path_batch, 'rb') as fo:\n",
    "        batch = pickle.load(fo, encoding='latin1')\n",
    "    features = batch['data'].reshape((len(batch['data']), 3, 32, 32)).transpose(0, 2, 3, 1)\n",
    "    labels = batch['labels']\n",
    "        \n",
    "    return features, labels"
   ]
  },
  {
   "cell_type": "code",
   "execution_count": 101,
   "metadata": {},
   "outputs": [],
   "source": [
    "def get_label_names():\n",
    "    with open(\"dataset\\\\batches.meta\", 'rb') as fo:\n",
    "        data = pickle.load(fo, encoding='latin1')\n",
    "    return (data['label_names'])"
   ]
  },
  {
   "cell_type": "code",
   "execution_count": 102,
   "metadata": {},
   "outputs": [],
   "source": [
    "def display_batch_stat(batch_nb):\n",
    "    features, labels = unpickle(datasetPath + str(batch_nb))\n",
    "    print(\"Batch N° %s\" % str(batch_nb), \"\\n\")\n",
    "    print(\"Number of Samples in batch %s\" % str(len(features)), \"\\n\")\n",
    "    counts =  [[x, labels.count(x)] for x in set(labels)]\n",
    "    for c in counts:\n",
    "        print( \"%s = %d <=> %.2f %s\" % (label_names[c[0]], c[1], (100 * c[1]) / len(features), \"%\"))\n",
    "    "
   ]
  },
  {
   "cell_type": "code",
   "execution_count": 103,
   "metadata": {},
   "outputs": [
    {
     "name": "stdout",
     "output_type": "stream",
     "text": [
      "Batch N° 1 \n",
      "\n",
      "Number of Samples in batch 10000 \n",
      "\n",
      "airplane = 1005 <=> 10.05 %\n",
      "automobile = 974 <=> 9.74 %\n",
      "bird = 1032 <=> 10.32 %\n",
      "cat = 1016 <=> 10.16 %\n",
      "deer = 999 <=> 9.99 %\n",
      "dog = 937 <=> 9.37 %\n",
      "frog = 1030 <=> 10.30 %\n",
      "horse = 1001 <=> 10.01 %\n",
      "ship = 1025 <=> 10.25 %\n",
      "truck = 981 <=> 9.81 %\n",
      "Batch N° 2 \n",
      "\n",
      "Number of Samples in batch 10000 \n",
      "\n",
      "airplane = 984 <=> 9.84 %\n",
      "automobile = 1007 <=> 10.07 %\n",
      "bird = 1010 <=> 10.10 %\n",
      "cat = 995 <=> 9.95 %\n",
      "deer = 1010 <=> 10.10 %\n",
      "dog = 988 <=> 9.88 %\n",
      "frog = 1008 <=> 10.08 %\n",
      "horse = 1026 <=> 10.26 %\n",
      "ship = 987 <=> 9.87 %\n",
      "truck = 985 <=> 9.85 %\n",
      "Batch N° 3 \n",
      "\n",
      "Number of Samples in batch 10000 \n",
      "\n",
      "airplane = 994 <=> 9.94 %\n",
      "automobile = 1042 <=> 10.42 %\n",
      "bird = 965 <=> 9.65 %\n",
      "cat = 997 <=> 9.97 %\n",
      "deer = 990 <=> 9.90 %\n",
      "dog = 1029 <=> 10.29 %\n",
      "frog = 978 <=> 9.78 %\n",
      "horse = 1015 <=> 10.15 %\n",
      "ship = 961 <=> 9.61 %\n",
      "truck = 1029 <=> 10.29 %\n",
      "Batch N° 4 \n",
      "\n",
      "Number of Samples in batch 10000 \n",
      "\n",
      "airplane = 1003 <=> 10.03 %\n",
      "automobile = 963 <=> 9.63 %\n",
      "bird = 1041 <=> 10.41 %\n",
      "cat = 976 <=> 9.76 %\n",
      "deer = 1004 <=> 10.04 %\n",
      "dog = 1021 <=> 10.21 %\n",
      "frog = 1004 <=> 10.04 %\n",
      "horse = 981 <=> 9.81 %\n",
      "ship = 1024 <=> 10.24 %\n",
      "truck = 983 <=> 9.83 %\n"
     ]
    }
   ],
   "source": [
    "label_names = get_label_names()\n",
    "for i in range(1, 5):\n",
    "    display_batch_stat(i)"
   ]
  },
  {
   "cell_type": "code",
   "execution_count": 104,
   "metadata": {
    "scrolled": false
   },
   "outputs": [],
   "source": [
    "features, labels = unpickle(\"dataset\\\\data_batch_1\")"
   ]
  },
  {
   "cell_type": "code",
   "execution_count": 105,
   "metadata": {},
   "outputs": [],
   "source": [
    "X = features.flatten()"
   ]
  },
  {
   "cell_type": "code",
   "execution_count": 106,
   "metadata": {},
   "outputs": [
    {
     "data": {
      "text/plain": [
       "9"
      ]
     },
     "execution_count": 106,
     "metadata": {},
     "output_type": "execute_result"
    }
   ],
   "source": [
    "labels[1]"
   ]
  },
  {
   "cell_type": "code",
   "execution_count": 107,
   "metadata": {},
   "outputs": [
    {
     "data": {
      "text/plain": [
       "array([[[ 59,  62,  63],\n",
       "        [ 43,  46,  45],\n",
       "        [ 50,  48,  43],\n",
       "        ...,\n",
       "        [158, 132, 108],\n",
       "        [152, 125, 102],\n",
       "        [148, 124, 103]],\n",
       "\n",
       "       [[ 16,  20,  20],\n",
       "        [  0,   0,   0],\n",
       "        [ 18,   8,   0],\n",
       "        ...,\n",
       "        [123,  88,  55],\n",
       "        [119,  83,  50],\n",
       "        [122,  87,  57]],\n",
       "\n",
       "       [[ 25,  24,  21],\n",
       "        [ 16,   7,   0],\n",
       "        [ 49,  27,   8],\n",
       "        ...,\n",
       "        [118,  84,  50],\n",
       "        [120,  84,  50],\n",
       "        [109,  73,  42]],\n",
       "\n",
       "       ...,\n",
       "\n",
       "       [[208, 170,  96],\n",
       "        [201, 153,  34],\n",
       "        [198, 161,  26],\n",
       "        ...,\n",
       "        [160, 133,  70],\n",
       "        [ 56,  31,   7],\n",
       "        [ 53,  34,  20]],\n",
       "\n",
       "       [[180, 139,  96],\n",
       "        [173, 123,  42],\n",
       "        [186, 144,  30],\n",
       "        ...,\n",
       "        [184, 148,  94],\n",
       "        [ 97,  62,  34],\n",
       "        [ 83,  53,  34]],\n",
       "\n",
       "       [[177, 144, 116],\n",
       "        [168, 129,  94],\n",
       "        [179, 142,  87],\n",
       "        ...,\n",
       "        [216, 184, 140],\n",
       "        [151, 118,  84],\n",
       "        [123,  92,  72]]], dtype=uint8)"
      ]
     },
     "execution_count": 107,
     "metadata": {},
     "output_type": "execute_result"
    }
   ],
   "source": [
    "features[0]"
   ]
  },
  {
   "cell_type": "code",
   "execution_count": 108,
   "metadata": {},
   "outputs": [
    {
     "data": {
      "text/plain": [
       "<matplotlib.image.AxesImage at 0x25228622948>"
      ]
     },
     "execution_count": 108,
     "metadata": {},
     "output_type": "execute_result"
    },
    {
     "data": {
      "image/png": "[encoded data removed]",
      "text/plain": [
       "<Figure size 432x288 with 1 Axes>"
      ]
     },
     "metadata": {
      "needs_background": "light"
     },
     "output_type": "display_data"
    }
   ],
   "source": [
    "X = features.flatten().reshape(10000, 32*32*3)\n",
    "plt.imshow(X[0].reshape(32, 32, 3))\n"
   ]
  },
  {
   "cell_type": "code",
   "execution_count": 233,
   "metadata": {
    "scrolled": true
   },
   "outputs": [
    {
     "name": "stdout",
     "output_type": "stream",
     "text": [
      "Train on 10000 samples\n",
      "Epoch 1/10\n",
      "10000/10000 [==============================] - 0s 24us/sample - loss: 0.7266 - accuracy: 0.0090\n",
      "Epoch 2/10\n",
      "10000/10000 [==============================] - 0s 5us/sample - loss: 0.4030 - accuracy: 0.0000e+00\n",
      "Epoch 3/10\n",
      "10000/10000 [==============================] - 0s 5us/sample - loss: 0.4024 - accuracy: 0.0000e+00\n",
      "Epoch 4/10\n",
      "10000/10000 [==============================] - 0s 5us/sample - loss: 0.4024 - accuracy: 0.0000e+00\n",
      "Epoch 5/10\n",
      "10000/10000 [==============================] - 0s 5us/sample - loss: 0.4020 - accuracy: 0.0000e+00\n",
      "Epoch 6/10\n",
      "10000/10000 [==============================] - 0s 5us/sample - loss: 0.4020 - accuracy: 0.0000e+00\n",
      "Epoch 7/10\n",
      "10000/10000 [==============================] - 0s 5us/sample - loss: 0.4020 - accuracy: 0.0000e+00\n",
      "Epoch 8/10\n",
      "10000/10000 [==============================] - 0s 5us/sample - loss: 0.4020 - accuracy: 0.0000e+00\n",
      "Epoch 9/10\n",
      "10000/10000 [==============================] - 0s 5us/sample - loss: 0.4020 - accuracy: 0.0000e+00\n",
      "Epoch 10/10\n",
      "10000/10000 [==============================] - 0s 6us/sample - loss: 0.4020 - accuracy: 0.0000e+00\n",
      "Train on 10000 samples\n",
      "Epoch 1/10\n",
      "10000/10000 [==============================] - 0s 24us/sample - loss: 3.4373 - accuracy: 0.0913\n",
      "Epoch 2/10\n",
      "10000/10000 [==============================] - 0s 5us/sample - loss: 0.4069 - accuracy: 5.0000e-04\n",
      "Epoch 3/10\n",
      "10000/10000 [==============================] - 0s 6us/sample - loss: 0.3896 - accuracy: 0.0000e+00\n",
      "Epoch 4/10\n",
      "10000/10000 [==============================] - 0s 6us/sample - loss: 0.3896 - accuracy: 0.0000e+00\n",
      "Epoch 5/10\n",
      "10000/10000 [==============================] - 0s 5us/sample - loss: 0.3896 - accuracy: 0.0000e+00\n",
      "Epoch 6/10\n",
      "10000/10000 [==============================] - 0s 5us/sample - loss: 0.3896 - accuracy: 0.0000e+00\n",
      "Epoch 7/10\n",
      "10000/10000 [==============================] - 0s 5us/sample - loss: 0.3896 - accuracy: 0.0000e+00\n",
      "Epoch 8/10\n",
      "10000/10000 [==============================] - 0s 5us/sample - loss: 0.3896 - accuracy: 0.0000e+00\n",
      "Epoch 9/10\n",
      "10000/10000 [==============================] - 0s 5us/sample - loss: 0.3896 - accuracy: 0.0000e+00\n",
      "Epoch 10/10\n",
      "10000/10000 [==============================] - 0s 5us/sample - loss: 0.3896 - accuracy: 0.0000e+00\n",
      "Train on 10000 samples\n",
      "Epoch 1/10\n",
      "10000/10000 [==============================] - 0s 24us/sample - loss: 0.5326 - accuracy: 0.0025\n",
      "Epoch 2/10\n",
      "10000/10000 [==============================] - 0s 5us/sample - loss: 0.4144 - accuracy: 0.0000e+00\n",
      "Epoch 3/10\n",
      "10000/10000 [==============================] - 0s 5us/sample - loss: 0.4132 - accuracy: 0.0000e+00\n",
      "Epoch 4/10\n",
      "10000/10000 [==============================] - 0s 5us/sample - loss: 0.4128 - accuracy: 0.0000e+00\n",
      "Epoch 5/10\n",
      "10000/10000 [==============================] - 0s 5us/sample - loss: 0.4128 - accuracy: 0.0000e+00\n",
      "Epoch 6/10\n",
      "10000/10000 [==============================] - 0s 6us/sample - loss: 0.4128 - accuracy: 0.0000e+00\n",
      "Epoch 7/10\n",
      "10000/10000 [==============================] - 0s 6us/sample - loss: 0.4128 - accuracy: 0.0000e+00\n",
      "Epoch 8/10\n",
      "10000/10000 [==============================] - 0s 5us/sample - loss: 0.4128 - accuracy: 0.0000e+00\n",
      "Epoch 9/10\n",
      "10000/10000 [==============================] - 0s 6us/sample - loss: 0.4128 - accuracy: 0.0000e+00\n",
      "Epoch 10/10\n",
      "10000/10000 [==============================] - 0s 6us/sample - loss: 0.4128 - accuracy: 0.0000e+00\n",
      "Train on 10000 samples\n",
      "Epoch 1/10\n",
      "10000/10000 [==============================] - 0s 24us/sample - loss: 0.6041 - accuracy: 0.0067\n",
      "Epoch 2/10\n",
      "10000/10000 [==============================] - 0s 6us/sample - loss: 0.4068 - accuracy: 0.0000e+00\n",
      "Epoch 3/10\n",
      "10000/10000 [==============================] - 0s 5us/sample - loss: 0.4064 - accuracy: 0.0000e+00\n",
      "Epoch 4/10\n",
      "10000/10000 [==============================] - 0s 5us/sample - loss: 0.4064 - accuracy: 0.0000e+00\n",
      "Epoch 5/10\n",
      "10000/10000 [==============================] - 0s 6us/sample - loss: 0.4064 - accuracy: 0.0000e+00\n",
      "Epoch 6/10\n",
      "10000/10000 [==============================] - 0s 5us/sample - loss: 0.4064 - accuracy: 0.0000e+00\n",
      "Epoch 7/10\n",
      "10000/10000 [==============================] - 0s 6us/sample - loss: 0.4064 - accuracy: 0.0000e+00\n",
      "Epoch 8/10\n",
      "10000/10000 [==============================] - 0s 5us/sample - loss: 0.4064 - accuracy: 0.0000e+00\n",
      "Epoch 9/10\n",
      "10000/10000 [==============================] - 0s 5us/sample - loss: 0.4064 - accuracy: 0.0000e+00\n",
      "Epoch 10/10\n",
      "10000/10000 [==============================] - 0s 6us/sample - loss: 0.4064 - accuracy: 0.0000e+00\n",
      "Train on 10000 samples\n",
      "Epoch 1/10\n",
      "10000/10000 [==============================] - 0s 24us/sample - loss: 0.7030 - accuracy: 0.0115\n",
      "Epoch 2/10\n",
      "10000/10000 [==============================] - 0s 5us/sample - loss: 0.4008 - accuracy: 0.0000e+00\n",
      "Epoch 3/10\n",
      "10000/10000 [==============================] - 0s 5us/sample - loss: 0.4000 - accuracy: 0.0000e+00\n",
      "Epoch 4/10\n",
      "10000/10000 [==============================] - 0s 5us/sample - loss: 0.3996 - accuracy: 0.0000e+00\n",
      "Epoch 5/10\n",
      "10000/10000 [==============================] - 0s 5us/sample - loss: 0.3996 - accuracy: 0.0000e+00\n",
      "Epoch 6/10\n",
      "10000/10000 [==============================] - 0s 5us/sample - loss: 0.3996 - accuracy: 0.0000e+00\n",
      "Epoch 7/10\n",
      "10000/10000 [==============================] - 0s 5us/sample - loss: 0.3996 - accuracy: 0.0000e+00\n",
      "Epoch 8/10\n",
      "10000/10000 [==============================] - 0s 5us/sample - loss: 0.3996 - accuracy: 0.0000e+00\n",
      "Epoch 9/10\n",
      "10000/10000 [==============================] - 0s 5us/sample - loss: 0.3996 - accuracy: 0.0000e+00\n",
      "Epoch 10/10\n",
      "10000/10000 [==============================] - 0s 5us/sample - loss: 0.3996 - accuracy: 0.0000e+00\n",
      "Train on 10000 samples\n",
      "Epoch 1/10\n",
      "10000/10000 [==============================] - 0s 24us/sample - loss: 0.4621 - accuracy: 0.0018\n",
      "Epoch 2/10\n",
      "10000/10000 [==============================] - 0s 5us/sample - loss: 0.3749 - accuracy: 0.0000e+00\n",
      "Epoch 3/10\n",
      "10000/10000 [==============================] - 0s 5us/sample - loss: 0.3748 - accuracy: 0.0000e+00\n",
      "Epoch 4/10\n",
      "10000/10000 [==============================] - 0s 5us/sample - loss: 0.3748 - accuracy: 0.0000e+00\n",
      "Epoch 5/10\n",
      "10000/10000 [==============================] - 0s 5us/sample - loss: 0.3748 - accuracy: 0.0000e+00\n",
      "Epoch 6/10\n",
      "10000/10000 [==============================] - 0s 5us/sample - loss: 0.3748 - accuracy: 0.0000e+00\n",
      "Epoch 7/10\n",
      "10000/10000 [==============================] - 0s 5us/sample - loss: 0.3748 - accuracy: 0.0000e+00\n",
      "Epoch 8/10\n",
      "10000/10000 [==============================] - 0s 5us/sample - loss: 0.3748 - accuracy: 0.0000e+00\n",
      "Epoch 9/10\n",
      "10000/10000 [==============================] - 0s 5us/sample - loss: 0.3748 - accuracy: 0.0000e+00\n",
      "Epoch 10/10\n",
      "10000/10000 [==============================] - 0s 6us/sample - loss: 0.3748 - accuracy: 0.0000e+00\n",
      "Train on 10000 samples\n",
      "Epoch 1/10\n",
      "10000/10000 [==============================] - 0s 24us/sample - loss: 0.4713 - accuracy: 0.0019\n",
      "Epoch 2/10\n",
      "10000/10000 [==============================] - 0s 5us/sample - loss: 0.4124 - accuracy: 1.0000e-04\n",
      "Epoch 3/10\n",
      "10000/10000 [==============================] - 0s 5us/sample - loss: 0.4120 - accuracy: 0.0000e+00\n",
      "Epoch 4/10\n",
      "10000/10000 [==============================] - 0s 5us/sample - loss: 0.4120 - accuracy: 0.0000e+00\n",
      "Epoch 5/10\n",
      "10000/10000 [==============================] - 0s 5us/sample - loss: 0.4120 - accuracy: 0.0000e+00\n",
      "Epoch 6/10\n",
      "10000/10000 [==============================] - 0s 5us/sample - loss: 0.4120 - accuracy: 0.0000e+00\n",
      "Epoch 7/10\n",
      "10000/10000 [==============================] - 0s 5us/sample - loss: 0.4120 - accuracy: 0.0000e+00\n",
      "Epoch 8/10\n",
      "10000/10000 [==============================] - 0s 5us/sample - loss: 0.4120 - accuracy: 0.0000e+00\n",
      "Epoch 9/10\n",
      "10000/10000 [==============================] - 0s 5us/sample - loss: 0.4120 - accuracy: 0.0000e+00\n",
      "Epoch 10/10\n",
      "10000/10000 [==============================] - 0s 5us/sample - loss: 0.4120 - accuracy: 0.0000e+00\n",
      "Train on 10000 samples\n",
      "Epoch 1/10\n",
      "10000/10000 [==============================] - 0s 24us/sample - loss: 1.3375 - accuracy: 0.0265\n",
      "Epoch 2/10\n",
      "10000/10000 [==============================] - 0s 5us/sample - loss: 0.4020 - accuracy: 0.0000e+00\n",
      "Epoch 3/10\n",
      "10000/10000 [==============================] - 0s 5us/sample - loss: 0.4008 - accuracy: 0.0000e+00\n"
     ]
    },
    {
     "name": "stdout",
     "output_type": "stream",
     "text": [
      "Epoch 4/10\n",
      "10000/10000 [==============================] - 0s 5us/sample - loss: 0.4004 - accuracy: 0.0000e+00\n",
      "Epoch 5/10\n",
      "10000/10000 [==============================] - 0s 5us/sample - loss: 0.4004 - accuracy: 0.0000e+00\n",
      "Epoch 6/10\n",
      "10000/10000 [==============================] - 0s 5us/sample - loss: 0.4004 - accuracy: 0.0000e+00\n",
      "Epoch 7/10\n",
      "10000/10000 [==============================] - 0s 5us/sample - loss: 0.4004 - accuracy: 0.0000e+00\n",
      "Epoch 8/10\n",
      "10000/10000 [==============================] - 0s 5us/sample - loss: 0.4004 - accuracy: 0.0000e+00\n",
      "Epoch 9/10\n",
      "10000/10000 [==============================] - 0s 5us/sample - loss: 0.4004 - accuracy: 0.0000e+00\n",
      "Epoch 10/10\n",
      "10000/10000 [==============================] - 0s 5us/sample - loss: 0.4004 - accuracy: 0.0000e+00\n",
      "Train on 10000 samples\n",
      "Epoch 1/10\n",
      "10000/10000 [==============================] - 0s 23us/sample - loss: 3.5438 - accuracy: 0.1023\n",
      "Epoch 2/10\n",
      "10000/10000 [==============================] - 0s 6us/sample - loss: 0.4558 - accuracy: 7.0000e-04\n",
      "Epoch 3/10\n",
      "10000/10000 [==============================] - 0s 5us/sample - loss: 0.4104 - accuracy: 0.0000e+00\n",
      "Epoch 4/10\n",
      "10000/10000 [==============================] - 0s 5us/sample - loss: 0.4100 - accuracy: 0.0000e+00\n",
      "Epoch 5/10\n",
      "10000/10000 [==============================] - 0s 5us/sample - loss: 0.4100 - accuracy: 0.0000e+00\n",
      "Epoch 6/10\n",
      "10000/10000 [==============================] - 0s 5us/sample - loss: 0.4100 - accuracy: 0.0000e+00\n",
      "Epoch 7/10\n",
      "10000/10000 [==============================] - 0s 6us/sample - loss: 0.4100 - accuracy: 0.0000e+00\n",
      "Epoch 8/10\n",
      "10000/10000 [==============================] - 0s 5us/sample - loss: 0.4100 - accuracy: 0.0000e+00\n",
      "Epoch 9/10\n",
      "10000/10000 [==============================] - 0s 5us/sample - loss: 0.4100 - accuracy: 0.0000e+00\n",
      "Epoch 10/10\n",
      "10000/10000 [==============================] - 0s 5us/sample - loss: 0.4100 - accuracy: 0.0000e+00\n",
      "Train on 10000 samples\n",
      "Epoch 1/10\n",
      "10000/10000 [==============================] - 0s 24us/sample - loss: 0.4498 - accuracy: 0.0010\n",
      "Epoch 2/10\n",
      "10000/10000 [==============================] - 0s 5us/sample - loss: 0.3927 - accuracy: 0.0000e+00\n",
      "Epoch 3/10\n",
      "10000/10000 [==============================] - 0s 5us/sample - loss: 0.3924 - accuracy: 0.0000e+00\n",
      "Epoch 4/10\n",
      "10000/10000 [==============================] - 0s 5us/sample - loss: 0.3924 - accuracy: 0.0000e+00\n",
      "Epoch 5/10\n",
      "10000/10000 [==============================] - 0s 5us/sample - loss: 0.3924 - accuracy: 0.0000e+00\n",
      "Epoch 6/10\n",
      "10000/10000 [==============================] - 0s 5us/sample - loss: 0.3924 - accuracy: 0.0000e+00\n",
      "Epoch 7/10\n",
      "10000/10000 [==============================] - 0s 5us/sample - loss: 0.3924 - accuracy: 0.0000e+00\n",
      "Epoch 8/10\n",
      "10000/10000 [==============================] - 0s 5us/sample - loss: 0.3924 - accuracy: 0.0000e+00\n",
      "Epoch 9/10\n",
      "10000/10000 [==============================] - 0s 5us/sample - loss: 0.3924 - accuracy: 0.0000e+00\n",
      "Epoch 10/10\n",
      "10000/10000 [==============================] - 0s 5us/sample - loss: 0.3924 - accuracy: 0.0000e+00\n"
     ]
    }
   ],
   "source": [
    "X = features.flatten().reshape(10000, 32*32*3)\n",
    "Y = np.asarray(labels)\n",
    "Y_all = []\n",
    "model_all = []\n",
    "\n",
    "def linear_model(X_param, Y_param, activation_param, optimizer_param, batch_size_param, epochs_param):\n",
    "    model = tf.keras.Sequential()\n",
    "    model.add(Dense(1, activation=activation_param, input_dim=32*32*3))\n",
    "    model.compile(optimizer=optimizer_param, loss=\"mean_squared_error\", metrics=[\"accuracy\"])\n",
    "\n",
    "    model.fit(X_param, Y_param, batch_size=batch_size_param, verbose=1, epochs=epochs_param)\n",
    "    return model\n",
    "\n",
    "\n",
    "for i in range(10):\n",
    "    Y_all.append(np.array([1 if y == i else -1 for y in Y]))\n",
    "    model_all.append(linear_model(X, Y_all[i], \"tanh\", \"adam\", 10000, 10))\n"
   ]
  },
  {
   "cell_type": "code",
   "execution_count": 234,
   "metadata": {},
   "outputs": [
    {
     "data": {
      "text/plain": [
       "<matplotlib.image.AxesImage at 0x2524d417a88>"
      ]
     },
     "execution_count": 234,
     "metadata": {},
     "output_type": "execute_result"
    },
    {
     "data": {
      "image/png": "[encoded data removed]",
      "text/plain": [
       "<Figure size 432x288 with 1 Axes>"
      ]
     },
     "metadata": {
      "needs_background": "light"
     },
     "output_type": "display_data"
    }
   ],
   "source": [
    "plt.imshow(X[0].reshape(32, 32, 3))"
   ]
  },
  {
   "cell_type": "code",
   "execution_count": 235,
   "metadata": {},
   "outputs": [
    {
     "name": "stdout",
     "output_type": "stream",
     "text": [
      "[ 59  62  63 ... 123  92  72]\n"
     ]
    }
   ],
   "source": [
    "np.shape(X[0].reshape(3072))\n",
    "print(X[0])"
   ]
  },
  {
   "cell_type": "code",
   "execution_count": 238,
   "metadata": {},
   "outputs": [
    {
     "name": "stdout",
     "output_type": "stream",
     "text": [
      "[-1.0, -1.0, -1.0, -1.0, -1.0, -1.0, -1.0, -1.0, -1.0, -1.0]\n"
     ]
    },
    {
     "ename": "ValueError",
     "evalue": "1 is not in list",
     "output_type": "error",
     "traceback": [
      "\u001b[1;31m---------------------------------------------------------------------------\u001b[0m",
      "\u001b[1;31mValueError\u001b[0m                                Traceback (most recent call last)",
      "\u001b[1;32m<ipython-input-238-27dd78fa2814>\u001b[0m in \u001b[0;36m<module>\u001b[1;34m\u001b[0m\n\u001b[0;32m      9\u001b[0m \u001b[1;33m\u001b[0m\u001b[0m\n\u001b[0;32m     10\u001b[0m \u001b[0mimg_index\u001b[0m \u001b[1;33m=\u001b[0m \u001b[1;36m3\u001b[0m\u001b[1;33m\u001b[0m\u001b[1;33m\u001b[0m\u001b[0m\n\u001b[1;32m---> 11\u001b[1;33m \u001b[0mres\u001b[0m \u001b[1;33m=\u001b[0m \u001b[0mpredict_liear\u001b[0m\u001b[1;33m(\u001b[0m\u001b[0mmodel_all\u001b[0m\u001b[1;33m,\u001b[0m \u001b[0mX\u001b[0m\u001b[1;33m[\u001b[0m\u001b[0mimg_index\u001b[0m\u001b[1;33m]\u001b[0m\u001b[1;33m)\u001b[0m\u001b[1;33m\u001b[0m\u001b[1;33m\u001b[0m\u001b[0m\n\u001b[0m\u001b[0;32m     12\u001b[0m \u001b[1;33m\u001b[0m\u001b[0m\n\u001b[0;32m     13\u001b[0m \u001b[0mprint\u001b[0m\u001b[1;33m(\u001b[0m\u001b[1;34m\"Image predicted is a: \"\u001b[0m \u001b[1;33m+\u001b[0m \u001b[0mlabel_names\u001b[0m\u001b[1;33m[\u001b[0m\u001b[0mres\u001b[0m\u001b[1;33m]\u001b[0m\u001b[1;33m)\u001b[0m\u001b[1;33m\u001b[0m\u001b[1;33m\u001b[0m\u001b[0m\n",
      "\u001b[1;32m<ipython-input-238-27dd78fa2814>\u001b[0m in \u001b[0;36mpredict_liear\u001b[1;34m(model_all, X)\u001b[0m\n\u001b[0;32m      5\u001b[0m         \u001b[0mres\u001b[0m\u001b[1;33m.\u001b[0m\u001b[0mappend\u001b[0m\u001b[1;33m(\u001b[0m\u001b[0mmodel\u001b[0m\u001b[1;33m.\u001b[0m\u001b[0mpredict\u001b[0m\u001b[1;33m(\u001b[0m\u001b[0mimg\u001b[0m\u001b[1;33m)\u001b[0m\u001b[1;33m[\u001b[0m\u001b[1;36m0\u001b[0m\u001b[1;33m]\u001b[0m\u001b[1;33m[\u001b[0m\u001b[1;36m0\u001b[0m\u001b[1;33m]\u001b[0m\u001b[1;33m)\u001b[0m\u001b[1;33m\u001b[0m\u001b[1;33m\u001b[0m\u001b[0m\n\u001b[0;32m      6\u001b[0m     \u001b[0mprint\u001b[0m\u001b[1;33m(\u001b[0m\u001b[0mres\u001b[0m\u001b[1;33m)\u001b[0m\u001b[1;33m\u001b[0m\u001b[1;33m\u001b[0m\u001b[0m\n\u001b[1;32m----> 7\u001b[1;33m     \u001b[1;32mreturn\u001b[0m \u001b[0mres\u001b[0m\u001b[1;33m.\u001b[0m\u001b[0mindex\u001b[0m\u001b[1;33m(\u001b[0m\u001b[1;36m1\u001b[0m\u001b[1;33m)\u001b[0m\u001b[1;33m\u001b[0m\u001b[1;33m\u001b[0m\u001b[0m\n\u001b[0m\u001b[0;32m      8\u001b[0m \u001b[1;33m\u001b[0m\u001b[0m\n\u001b[0;32m      9\u001b[0m \u001b[1;33m\u001b[0m\u001b[0m\n",
      "\u001b[1;31mValueError\u001b[0m: 1 is not in list"
     ]
    }
   ],
   "source": [
    "def predict_liear(model_all, X):\n",
    "    res = []\n",
    "    for model in model_all:\n",
    "        img = X.reshape(1, 3072)\n",
    "        res.append(model.predict(img)[0][0])\n",
    "    print(res)\n",
    "    return res.index(1)\n",
    "    \n",
    "\n",
    "img_index = 3\n",
    "res = predict_liear(model_all, X[img_index])\n",
    "\n",
    "print(\"Image predicted is a: \" + label_names[res])\n",
    "print(\"Image is supposed to be a: \" + label_names[Y[img_index]])\n"
   ]
  },
  {
   "cell_type": "code",
   "execution_count": null,
   "metadata": {},
   "outputs": [],
   "source": []
  },
  {
   "cell_type": "code",
   "execution_count": null,
   "metadata": {},
   "outputs": [],
   "source": []
  },
  {
   "cell_type": "code",
   "execution_count": null,
   "metadata": {},
   "outputs": [],
   "source": []
  }
 ],
 "metadata": {
  "kernelspec": {
   "display_name": "Python 3",
   "language": "python",
   "name": "python3"
  },
  "language_info": {
   "codemirror_mode": {
    "name": "ipython",
    "version": 3
   },
   "file_extension": ".py",
   "mimetype": "text/x-python",
   "name": "python",
   "nbconvert_exporter": "python",
   "pygments_lexer": "ipython3",
   "version": "3.7.4"
  }
 },
 "nbformat": 4,
 "nbformat_minor": 2
}
