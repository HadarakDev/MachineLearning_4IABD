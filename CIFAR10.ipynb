{
 "cells": [
  {
   "cell_type": "code",
   "execution_count": 26,
   "metadata": {},
   "outputs": [],
   "source": [
    "import pickle\n",
    "import numpy as np\n",
    "import matplotlib.pyplot as plt\n",
    "import tensorflow as tf\n",
    "\n",
    "datasetPath = \"dataset\\\\data_batch_\""
   ]
  },
  {
   "cell_type": "code",
   "execution_count": 14,
   "metadata": {},
   "outputs": [],
   "source": [
    "def unpickle(path_batch):\n",
    "    with open(path_batch, 'rb') as fo:\n",
    "        batch = pickle.load(fo, encoding='latin1')      \n",
    "    features = batch['data'].reshape((len(batch['data']), 3, 32, 32)).transpose(0, 2, 3, 1)\n",
    "    labels = batch['labels']\n",
    "        \n",
    "    return features, labels"
   ]
  },
  {
   "cell_type": "code",
   "execution_count": 43,
   "metadata": {},
   "outputs": [],
   "source": [
    "def get_label_names():\n",
    "    with open(\"dataset\\\\batches.meta\", 'rb') as fo:\n",
    "        data = pickle.load(fo, encoding='latin1')\n",
    "    return (data['label_names'])"
   ]
  },
  {
   "cell_type": "code",
   "execution_count": 76,
   "metadata": {},
   "outputs": [],
   "source": [
    "def display_batch_stat(batch_nb):\n",
    "    features, labels = unpickle(datasetPath + str(batch_nb))\n",
    "    print(\"Batch N° %s\" % str(batch_nb), \"\\n\")\n",
    "    print(\"Number of Samples in batch %s\" % str(len(features)), \"\\n\")\n",
    "    counts =  [[x, labels.count(x)] for x in set(labels)]\n",
    "    for c in counts:\n",
    "        print( \"%s = %d <=> %.2f %s\" % (label_names[c[0]], c[1], (100 * c[1]) / len(features), \"%\"))\n",
    "    "
   ]
  },
  {
   "cell_type": "code",
   "execution_count": 77,
   "metadata": {
    "scrolled": true
   },
   "outputs": [
    {
     "name": "stdout",
     "output_type": "stream",
     "text": [
      "Batch N° 3 \n",
      "\n",
      "Number of Samples in batch 10000 \n",
      "\n",
      "airplane = 994 <=> 9.94 %\n",
      "automobile = 1042 <=> 10.42 %\n",
      "bird = 965 <=> 9.65 %\n",
      "cat = 997 <=> 9.97 %\n",
      "deer = 990 <=> 9.90 %\n",
      "dog = 1029 <=> 10.29 %\n",
      "frog = 978 <=> 9.78 %\n",
      "horse = 1015 <=> 10.15 %\n",
      "ship = 961 <=> 9.61 %\n",
      "truck = 1029 <=> 10.29 %\n"
     ]
    }
   ],
   "source": [
    "display_batch_stat(3)"
   ]
  },
  {
   "cell_type": "code",
   "execution_count": 44,
   "metadata": {},
   "outputs": [
    {
     "name": "stdout",
     "output_type": "stream",
     "text": [
      "['airplane', 'automobile', 'bird', 'cat', 'deer', 'dog', 'frog', 'horse', 'ship', 'truck']\n"
     ]
    }
   ],
   "source": [
    "\n",
    "print(label_names)"
   ]
  },
  {
   "cell_type": "code",
   "execution_count": null,
   "metadata": {},
   "outputs": [],
   "source": []
  }
 ],
 "metadata": {
  "kernelspec": {
   "display_name": "Python 3",
   "language": "python",
   "name": "python3"
  },
  "language_info": {
   "codemirror_mode": {
    "name": "ipython",
    "version": 3
   },
   "file_extension": ".py",
   "mimetype": "text/x-python",
   "name": "python",
   "nbconvert_exporter": "python",
   "pygments_lexer": "ipython3",
   "version": "3.7.5"
  }
 },
 "nbformat": 4,
 "nbformat_minor": 2
}
